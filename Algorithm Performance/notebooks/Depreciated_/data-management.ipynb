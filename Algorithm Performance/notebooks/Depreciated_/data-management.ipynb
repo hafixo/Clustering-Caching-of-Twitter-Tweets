{
 "cells": [
  {
   "cell_type": "code",
   "execution_count": 1,
   "metadata": {},
   "outputs": [],
   "source": [
    "import os\n",
    "import time\n",
    "import pandas as pd\n",
    "import warnings\n",
    "# warnings.filterwarnings(\"ignore\", category=PerformanceWarning)"
   ]
  },
  {
   "cell_type": "code",
   "execution_count": 2,
   "metadata": {},
   "outputs": [],
   "source": [
    "# Navigate to data folder and get file\n",
    "\n",
    "project = os.path.realpath('./..')\n",
    "datadir = os.path.join(project, 'data')\n",
    "datafile = os.path.join(datadir, 'tweets_1M.json')"
   ]
  },
  {
   "cell_type": "code",
   "execution_count": 3,
   "metadata": {},
   "outputs": [],
   "source": [
    "# Read to pandas DataFrame\n",
    "\n",
    "tweets = pd.read_json(datafile)"
   ]
  },
  {
   "cell_type": "code",
   "execution_count": 4,
   "metadata": {},
   "outputs": [
    {
     "data": {
      "text/html": [
       "<div>\n",
       "<style>\n",
       "    .dataframe thead tr:only-child th {\n",
       "        text-align: right;\n",
       "    }\n",
       "\n",
       "    .dataframe thead th {\n",
       "        text-align: left;\n",
       "    }\n",
       "\n",
       "    .dataframe tbody tr th {\n",
       "        vertical-align: top;\n",
       "    }\n",
       "</style>\n",
       "<table border=\"1\" class=\"dataframe\">\n",
       "  <thead>\n",
       "    <tr style=\"text-align: right;\">\n",
       "      <th></th>\n",
       "      <th>id</th>\n",
       "      <th>lat</th>\n",
       "      <th>lng</th>\n",
       "      <th>text</th>\n",
       "      <th>timeStamp</th>\n",
       "      <th>user_id</th>\n",
       "    </tr>\n",
       "  </thead>\n",
       "  <tbody>\n",
       "    <tr>\n",
       "      <th>0</th>\n",
       "      <td>377652254096228352</td>\n",
       "      <td>37.446100</td>\n",
       "      <td>-121.883557</td>\n",
       "      <td>@Tanner_Cortez hey checkout the website: http:...</td>\n",
       "      <td>2013-09-11 04:38:08</td>\n",
       "      <td>224874450</td>\n",
       "    </tr>\n",
       "    <tr>\n",
       "      <th>1</th>\n",
       "      <td>377652255346159616</td>\n",
       "      <td>34.087406</td>\n",
       "      <td>-117.462604</td>\n",
       "      <td>@Lennayy7 😪</td>\n",
       "      <td>2013-09-11 04:38:08</td>\n",
       "      <td>312179473</td>\n",
       "    </tr>\n",
       "    <tr>\n",
       "      <th>2</th>\n",
       "      <td>377652262325456897</td>\n",
       "      <td>37.356131</td>\n",
       "      <td>-121.842867</td>\n",
       "      <td>i laugh a lot with that line</td>\n",
       "      <td>2013-09-11 04:38:10</td>\n",
       "      <td>54351774</td>\n",
       "    </tr>\n",
       "    <tr>\n",
       "      <th>3</th>\n",
       "      <td>377652264682655744</td>\n",
       "      <td>37.364664</td>\n",
       "      <td>-122.009629</td>\n",
       "      <td>sons of anarchy is back on woop woop</td>\n",
       "      <td>2013-09-11 04:38:11</td>\n",
       "      <td>343219606</td>\n",
       "    </tr>\n",
       "    <tr>\n",
       "      <th>4</th>\n",
       "      <td>377652271116722176</td>\n",
       "      <td>37.382600</td>\n",
       "      <td>-121.995000</td>\n",
       "      <td>Drinking a Fresh Squeezed IPA by @deschutesbee...</td>\n",
       "      <td>2013-09-11 04:38:12</td>\n",
       "      <td>1569395935</td>\n",
       "    </tr>\n",
       "  </tbody>\n",
       "</table>\n",
       "</div>"
      ],
      "text/plain": [
       "                   id        lat         lng  \\\n",
       "0  377652254096228352  37.446100 -121.883557   \n",
       "1  377652255346159616  34.087406 -117.462604   \n",
       "2  377652262325456897  37.356131 -121.842867   \n",
       "3  377652264682655744  37.364664 -122.009629   \n",
       "4  377652271116722176  37.382600 -121.995000   \n",
       "\n",
       "                                                text           timeStamp  \\\n",
       "0  @Tanner_Cortez hey checkout the website: http:... 2013-09-11 04:38:08   \n",
       "1                                        @Lennayy7 😪 2013-09-11 04:38:08   \n",
       "2                       i laugh a lot with that line 2013-09-11 04:38:10   \n",
       "3               sons of anarchy is back on woop woop 2013-09-11 04:38:11   \n",
       "4  Drinking a Fresh Squeezed IPA by @deschutesbee... 2013-09-11 04:38:12   \n",
       "\n",
       "      user_id  \n",
       "0   224874450  \n",
       "1   312179473  \n",
       "2    54351774  \n",
       "3   343219606  \n",
       "4  1569395935  "
      ]
     },
     "execution_count": 4,
     "metadata": {},
     "output_type": "execute_result"
    }
   ],
   "source": [
    "tweets.head()"
   ]
  },
  {
   "cell_type": "code",
   "execution_count": 5,
   "metadata": {},
   "outputs": [],
   "source": [
    "# # Constrain to Bay Area\n",
    "\n",
    "# tweets = tweets.loc[\n",
    "#     (tweets.lat > 36.903929764) &\n",
    "#     (tweets.lat < 38.853939589) &\n",
    "#     (tweets.lng > -123.528897483) &\n",
    "#     (tweets.lng < -121.213352822)\n",
    "# ]"
   ]
  },
  {
   "cell_type": "code",
   "execution_count": 6,
   "metadata": {},
   "outputs": [],
   "source": [
    "# Create a subset to 100,000 records randomly\n",
    "\n",
    "subset = tweets.sample(n=100000)"
   ]
  },
  {
   "cell_type": "code",
   "execution_count": 7,
   "metadata": {},
   "outputs": [],
   "source": [
    "# Save both tables to HDF5 file for speed of access\n",
    "\n",
    "h5file = os.path.join(datadir, 'tweets_1M.h5')\n",
    "\n",
    "tweets.to_hdf(h5file, 'tweets', mode='w')\n",
    "subset.to_hdf(h5file, 'tweets_subset', mode='a')"
   ]
  },
  {
   "cell_type": "code",
   "execution_count": null,
   "metadata": {},
   "outputs": [],
   "source": []
  }
 ],
 "metadata": {
  "kernelspec": {
   "display_name": "Python 3",
   "language": "python",
   "name": "python3"
  },
  "language_info": {
   "codemirror_mode": {
    "name": "ipython",
    "version": 3
   },
   "file_extension": ".py",
   "mimetype": "text/x-python",
   "name": "python",
   "nbconvert_exporter": "python",
   "pygments_lexer": "ipython3",
   "version": "3.6.2"
  }
 },
 "nbformat": 4,
 "nbformat_minor": 1
}
