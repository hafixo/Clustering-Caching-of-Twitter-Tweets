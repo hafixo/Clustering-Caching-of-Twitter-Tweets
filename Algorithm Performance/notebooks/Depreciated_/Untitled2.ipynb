{
 "cells": [
  {
   "cell_type": "code",
   "execution_count": 1,
   "metadata": {},
   "outputs": [],
   "source": [
    "import pandas as pd\n",
    "import numpy as np\n",
    "import matplotlib.pyplot as plt\n",
    "import os"
   ]
  },
  {
   "cell_type": "code",
   "execution_count": 2,
   "metadata": {},
   "outputs": [],
   "source": [
    "project = os.path.realpath('./..')\n",
    "datadir = os.path.join(project, 'results\\Latency\\cached')\n",
    "datadir = os.path.join(datadir,'responsetable.csv')\n",
    "df = pd.read_csv(datadir)"
   ]
  },
  {
   "cell_type": "code",
   "execution_count": 3,
   "metadata": {},
   "outputs": [],
   "source": [
    "project = os.path.realpath('./..')\n",
    "datadir = os.path.join(project, 'results\\Latency\\Twitter Original')\n",
    "datadir = os.path.join(datadir,'responsetable.csv')\n",
    "df_org = pd.read_csv(datadir)"
   ]
  },
  {
   "cell_type": "code",
   "execution_count": 4,
   "metadata": {},
   "outputs": [
    {
     "name": "stdout",
     "output_type": "stream",
     "text": [
      "Original DataFrame\n",
      "\n",
      "          timeStamp       elapsed  failureMessage          bytes    sentBytes  \\\n",
      "count  1.712000e+03   1712.000000             0.0    1712.000000  1712.000000   \n",
      "mean   1.554034e+12   4271.308995             NaN  213806.299065   114.664136   \n",
      "std    4.125059e+05   2922.718180             NaN   11465.911567     6.207586   \n",
      "min    1.554034e+12    779.000000             NaN    1544.000000     0.000000   \n",
      "25%    1.554034e+12   2595.750000             NaN  213985.000000   115.000000   \n",
      "50%    1.554034e+12   3259.000000             NaN  214608.000000   115.000000   \n",
      "75%    1.554035e+12   4600.750000             NaN  214608.000000   115.000000   \n",
      "max    1.554035e+12  27600.000000             NaN  214785.000000   115.000000   \n",
      "\n",
      "        grpThreads   allThreads       Latency  IdleTime      Connect  \n",
      "count  1712.000000  1712.000000   1712.000000    1712.0  1712.000000  \n",
      "mean      4.935748     4.935748   1620.626752       0.0  1032.801986  \n",
      "std       0.406646     0.406646    855.002198       0.0   549.125552  \n",
      "min       1.000000     1.000000      0.000000       0.0     0.000000  \n",
      "25%       5.000000     5.000000   1122.000000       0.0   706.750000  \n",
      "50%       5.000000     5.000000   1393.000000       0.0   910.000000  \n",
      "75%       5.000000     5.000000   1783.250000       0.0  1191.250000  \n",
      "max       5.000000     5.000000  10071.000000       0.0  6438.000000  \n",
      "\n",
      "\n",
      "=======================================================================\n",
      "Edged DataFrame\n",
      "\n",
      "          timeStamp      elapsed  failureMessage         bytes    sentBytes  \\\n",
      "count  1.800000e+03  1800.000000             0.0   1800.000000  1800.000000   \n",
      "mean   1.554040e+12   360.494444             NaN  12866.301111   120.663889   \n",
      "std    0.000000e+00   180.605765             NaN    536.040465     6.370166   \n",
      "min    1.554040e+12    56.000000             NaN   2859.000000     0.000000   \n",
      "25%    1.554040e+12   279.000000             NaN  12868.000000   121.000000   \n",
      "50%    1.554040e+12   296.000000             NaN  12886.000000   121.000000   \n",
      "75%    1.554040e+12   412.250000             NaN  12904.000000   121.000000   \n",
      "max    1.554040e+12  3464.000000             NaN  13854.000000   121.000000   \n",
      "\n",
      "        grpThreads   allThreads      Latency  IdleTime      Connect  \n",
      "count  1800.000000  1800.000000  1800.000000    1800.0  1800.000000  \n",
      "mean      4.624444     4.624444   322.386667       0.0    41.310556  \n",
      "std       0.898434     0.898434   165.612131       0.0   143.597961  \n",
      "min       1.000000     1.000000     0.000000       0.0     0.000000  \n",
      "25%       5.000000     5.000000   247.000000       0.0     0.000000  \n",
      "50%       5.000000     5.000000   265.000000       0.0     0.000000  \n",
      "75%       5.000000     5.000000   362.250000       0.0     0.000000  \n",
      "max       5.000000     5.000000  3439.000000       0.0  3173.000000  \n"
     ]
    }
   ],
   "source": [
    "print(\"Original DataFrame\\n\")\n",
    "print(df_org.describe())\n",
    "print(\"\\n\\n=======================================================================\")\n",
    "print(\"Edged DataFrame\\n\")\n",
    "print(df.describe())\n"
   ]
  },
  {
   "cell_type": "code",
   "execution_count": 5,
   "metadata": {},
   "outputs": [],
   "source": [
    "df_diff = pd.DataFrame()\n",
    "df_diff['index'] = df_org.index"
   ]
  },
  {
   "cell_type": "code",
   "execution_count": 6,
   "metadata": {},
   "outputs": [],
   "source": [
    "#LatencyDifference bw Org Content and Cached Content\n",
    "df_diff['Latency'] = df_org['Latency'] - df['Latency']\n",
    "df_diff.sort_values(by='Latency',inplace=True, ascending=False)"
   ]
  },
  {
   "cell_type": "code",
   "execution_count": 72,
   "metadata": {},
   "outputs": [],
   "source": [
    "dff = pd.DataFrame()\n",
    "dff['Latency_org'] = (df_org[df_org['Latency'] < 1500])['Latency']\n",
    "dff['Latency_Edge'] = (df[df['Latency'] < 1500])['Latency']\n",
    "result_df = pd.DataFrame()\n",
    "result_df['Latency'] = dff['Latency_org'] - dff['Latency_Edge']\n",
    "#result_df.sort_values(by='Latency',ascending=False,inplace=True)"
   ]
  },
  {
   "cell_type": "code",
   "execution_count": 73,
   "metadata": {},
   "outputs": [
    {
     "name": "stdout",
     "output_type": "stream",
     "text": [
      "\n",
      "\n",
      "\n",
      " Edge Cache Latency\n",
      "0    670\n",
      "1    265\n",
      "2    272\n",
      "3    267\n",
      "4    265\n",
      "Name: Latency, dtype: int64\n",
      "\n",
      "\n",
      "\n",
      " Original Access Latency\n",
      "0    2631\n",
      "1     977\n",
      "2     336\n",
      "3     930\n",
      "4     331\n",
      "Name: Latency, dtype: int64\n",
      "\n",
      "\n",
      "\n",
      " Difference Of Latency, Represents Main Gain in Latency\n",
      "1    712.0\n",
      "2     64.0\n",
      "3    663.0\n",
      "4     66.0\n",
      "5    642.0\n",
      "Name: Latency, dtype: float64\n"
     ]
    }
   ],
   "source": [
    "print(\"\\n\\n\\n Edge Cache Latency\")\n",
    "print(df['Latency'].head())\n",
    "\n",
    "print(\"\\n\\n\\n Original Access Latency\")\n",
    "print(df_org['Latency'].head())\n",
    "\n",
    "print(\"\\n\\n\\n Difference Of Latency, Represents Main Gain in Latency\")\n",
    "print(result_df['Latency'].head())"
   ]
  },
  {
   "cell_type": "code",
   "execution_count": 86,
   "metadata": {},
   "outputs": [
    {
     "name": "stdout",
     "output_type": "stream",
     "text": [
      "\n",
      "\n",
      " Edge Cache Latency\n",
      "476.23636363636365\n",
      "\n",
      "\n",
      " Original Access Latency\n",
      "1806.9631782945737\n"
     ]
    }
   ],
   "source": [
    "print(\"\\n\\n Edge Cache Latency\")\n",
    "print(df['Latency'].unique().mean())\n",
    "\n",
    "print(\"\\n\\n Original Access Latency\")\n",
    "print(df_org['Latency'].unique().mean())"
   ]
  },
  {
   "cell_type": "code",
   "execution_count": null,
   "metadata": {},
   "outputs": [],
   "source": []
  }
 ],
 "metadata": {
  "kernelspec": {
   "display_name": "Python 3",
   "language": "python",
   "name": "python3"
  },
  "language_info": {
   "codemirror_mode": {
    "name": "ipython",
    "version": 3
   },
   "file_extension": ".py",
   "mimetype": "text/x-python",
   "name": "python",
   "nbconvert_exporter": "python",
   "pygments_lexer": "ipython3",
   "version": "3.6.2"
  }
 },
 "nbformat": 4,
 "nbformat_minor": 2
}
