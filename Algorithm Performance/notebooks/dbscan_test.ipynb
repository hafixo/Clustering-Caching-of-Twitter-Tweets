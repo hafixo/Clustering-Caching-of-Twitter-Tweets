{
 "cells": [
  {
   "cell_type": "code",
   "execution_count": 1,
   "metadata": {},
   "outputs": [],
   "source": [
    "import os\n",
    "import time\n",
    "import pandas as pd\n",
    "import numpy as np\n",
    "import datashader as ds\n",
    "import datashader.transfer_functions as tf\n",
    "from sklearn.cluster import DBSCAN\n",
    "from matplotlib.colors import Colormap"
   ]
  },
  {
   "cell_type": "code",
   "execution_count": 2,
   "metadata": {},
   "outputs": [],
   "source": [
    "# Load from HDF5 file\n",
    "\n",
    "project = os.path.realpath('./..')\n",
    "datadir = os.path.join(project, 'data')\n",
    "\n",
    "with pd.HDFStore(os.path.join(datadir, 'tweets_1M.h5')) as store:\n",
    "    subset = store.tweets_subset"
   ]
  },
  {
   "cell_type": "code",
   "execution_count": 3,
   "metadata": {},
   "outputs": [],
   "source": [
    "# Convert the lat and lng columns to numpy array\n",
    "data = subset.as_matrix(columns=['lat', 'lng'])"
   ]
  },
  {
   "cell_type": "code",
   "execution_count": 8,
   "metadata": {},
   "outputs": [
    {
     "data": {
      "image/png": "[encoded data removed]",
      "text/html": [
       "<img style=\"margin: auto; border:1px solid\" src='data:image/png;base64,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'/>"
      ],
      "text/plain": [
       "<xarray.Image (lat: 300, lng: 300)>\n",
       "array([[         0,          0,          0, ...,          0,          0,\n",
       "        4293318829],\n",
       "       [         0,          0,          0, ...,          0,          0,\n",
       "                 0],\n",
       "       [         0,          0,          0, ...,          0,          0,\n",
       "                 0],\n",
       "       ...,\n",
       "       [4290408537,          0, 4292922274, ...,          0,          0,\n",
       "                 0],\n",
       "       [4289681222,          0, 4291136367, ...,          0,          0,\n",
       "                 0],\n",
       "       [4292591256,          0,          0, ...,          0,          0,\n",
       "                 0]], dtype=uint32)\n",
       "Coordinates:\n",
       "  * lat      (lat) float64 13.03 13.13 13.22 13.32 ... 41.65 41.74 41.84 41.94\n",
       "  * lng      (lng) float64 -124.1 -123.4 -122.7 -122.0 ... 75.9 76.57 77.25"
      ]
     },
     "execution_count": 8,
     "metadata": {},
     "output_type": "execute_result"
    }
   ],
   "source": [
    "# Visualize points with datashader\n",
    "\n",
    "cvs = ds.Canvas(plot_width=300, plot_height=300)\n",
    "agg = cvs.points(subset, 'lng', 'lat')\n",
    "tf.shade(agg)"
   ]
  },
  {
   "cell_type": "code",
   "execution_count": 9,
   "metadata": {},
   "outputs": [],
   "source": [
    "# Prepare the DBSCAN model object\n",
    "\n",
    "from __future__ import division\n",
    "\n",
    "miles = .75\n",
    "\n",
    "# Rough approximation: 100 km / 1 degree lat or long\n",
    "kilometers = miles / 0.621371\n",
    "degrees = kilometers / 100\n",
    "\n",
    "db = DBSCAN(eps=degrees,\n",
    "            min_samples=100)"
   ]
  },
  {
   "cell_type": "code",
   "execution_count": 11,
   "metadata": {},
   "outputs": [
    {
     "name": "stdout",
     "output_type": "stream",
     "text": [
      "6.094548940658569 seconds\n",
      "75 unique clusters created\n"
     ]
    }
   ],
   "source": [
    "# Start timer\n",
    "t0 = time.time()\n",
    "\n",
    "# Fit the data and save timing\n",
    "db.fit(data)\n",
    "db_time = time.time() - t0\n",
    "print (str(db_time) + ' seconds')\n",
    "\n",
    "# Add fitted label back into DataFrame\n",
    "subset['cluster'] = db.labels_\n",
    "\n",
    "# Find number of clusters created\n",
    "clusters = subset.cluster.unique()\n",
    "print('{} unique clusters created'.format(str(len(clusters))))"
   ]
  },
  {
   "cell_type": "code",
   "execution_count": 12,
   "metadata": {},
   "outputs": [
    {
     "data": {
      "text/plain": [
       "array([-1,  0,  1,  2,  3,  4,  5,  6,  7,  8,  9, 10, 11, 12, 13, 14, 15,\n",
       "       16, 17, 18, 19, 20, 21, 22, 23, 24, 25, 26, 27, 28, 29, 30, 31, 32,\n",
       "       33, 34, 35, 36, 37, 38, 39, 40, 41, 42, 43, 44, 45, 46, 47, 48, 49,\n",
       "       50, 51, 52, 53, 54, 55, 56, 57, 58, 59, 60, 61, 62, 63, 64, 65, 66,\n",
       "       67, 68, 69, 70, 71, 72, 73], dtype=int32)"
      ]
     },
     "execution_count": 12,
     "metadata": {},
     "output_type": "execute_result"
    }
   ],
   "source": [
    "np.unique(db.labels_)"
   ]
  },
  {
   "cell_type": "code",
   "execution_count": 14,
   "metadata": {
    "scrolled": true
   },
   "outputs": [
    {
     "ename": "NotImplementedError",
     "evalue": "Abstract class only",
     "output_type": "error",
     "traceback": [
      "\u001b[1;31m---------------------------------------------------------------------------\u001b[0m",
      "\u001b[1;31mNotImplementedError\u001b[0m                       Traceback (most recent call last)",
      "\u001b[1;32m<ipython-input-14-892887cb631a>\u001b[0m in \u001b[0;36m<module>\u001b[1;34m()\u001b[0m\n\u001b[0;32m      2\u001b[0m \u001b[0mcvs\u001b[0m \u001b[1;33m=\u001b[0m \u001b[0mds\u001b[0m\u001b[1;33m.\u001b[0m\u001b[0mCanvas\u001b[0m\u001b[1;33m(\u001b[0m\u001b[0mplot_width\u001b[0m\u001b[1;33m=\u001b[0m\u001b[1;36m400\u001b[0m\u001b[1;33m,\u001b[0m \u001b[0mplot_height\u001b[0m\u001b[1;33m=\u001b[0m\u001b[1;36m400\u001b[0m\u001b[1;33m)\u001b[0m\u001b[1;33m\u001b[0m\u001b[0m\n\u001b[0;32m      3\u001b[0m \u001b[0magg\u001b[0m \u001b[1;33m=\u001b[0m \u001b[0mcvs\u001b[0m\u001b[1;33m.\u001b[0m\u001b[0mpoints\u001b[0m\u001b[1;33m(\u001b[0m\u001b[0msubset\u001b[0m\u001b[1;33m,\u001b[0m \u001b[1;34m'lng'\u001b[0m\u001b[1;33m,\u001b[0m \u001b[1;34m'lat'\u001b[0m\u001b[1;33m,\u001b[0m \u001b[0mds\u001b[0m\u001b[1;33m.\u001b[0m\u001b[0mmean\u001b[0m\u001b[1;33m(\u001b[0m\u001b[1;34m'cluster'\u001b[0m\u001b[1;33m)\u001b[0m\u001b[1;33m)\u001b[0m\u001b[1;33m\u001b[0m\u001b[0m\n\u001b[1;32m----> 4\u001b[1;33m \u001b[0mtf\u001b[0m\u001b[1;33m.\u001b[0m\u001b[0mshade\u001b[0m\u001b[1;33m(\u001b[0m\u001b[0magg\u001b[0m\u001b[1;33m,\u001b[0m \u001b[0mcmap\u001b[0m\u001b[1;33m=\u001b[0m\u001b[0mColormap\u001b[0m\u001b[1;33m(\u001b[0m\u001b[1;34m'Accent'\u001b[0m\u001b[1;33m,\u001b[0m \u001b[1;36m80\u001b[0m\u001b[1;33m)\u001b[0m\u001b[1;33m)\u001b[0m\u001b[1;33m\u001b[0m\u001b[0m\n\u001b[0m",
      "\u001b[1;32mc:\\users\\ayesha zaka\\appdata\\local\\programs\\python\\python36-32\\lib\\site-packages\\datashader\\transfer_functions.py\u001b[0m in \u001b[0;36mshade\u001b[1;34m(agg, cmap, color_key, how, alpha, min_alpha, span, name)\u001b[0m\n\u001b[0;32m    361\u001b[0m \u001b[1;33m\u001b[0m\u001b[0m\n\u001b[0;32m    362\u001b[0m     \u001b[1;32mif\u001b[0m \u001b[0magg\u001b[0m\u001b[1;33m.\u001b[0m\u001b[0mndim\u001b[0m \u001b[1;33m==\u001b[0m \u001b[1;36m2\u001b[0m\u001b[1;33m:\u001b[0m\u001b[1;33m\u001b[0m\u001b[0m\n\u001b[1;32m--> 363\u001b[1;33m         \u001b[1;32mreturn\u001b[0m \u001b[0m_interpolate\u001b[0m\u001b[1;33m(\u001b[0m\u001b[0magg\u001b[0m\u001b[1;33m,\u001b[0m \u001b[0mcmap\u001b[0m\u001b[1;33m,\u001b[0m \u001b[0mhow\u001b[0m\u001b[1;33m,\u001b[0m \u001b[0malpha\u001b[0m\u001b[1;33m,\u001b[0m \u001b[0mspan\u001b[0m\u001b[1;33m,\u001b[0m \u001b[0mmin_alpha\u001b[0m\u001b[1;33m,\u001b[0m \u001b[0mname\u001b[0m\u001b[1;33m)\u001b[0m\u001b[1;33m\u001b[0m\u001b[0m\n\u001b[0m\u001b[0;32m    364\u001b[0m     \u001b[1;32melif\u001b[0m \u001b[0magg\u001b[0m\u001b[1;33m.\u001b[0m\u001b[0mndim\u001b[0m \u001b[1;33m==\u001b[0m \u001b[1;36m3\u001b[0m\u001b[1;33m:\u001b[0m\u001b[1;33m\u001b[0m\u001b[0m\n\u001b[0;32m    365\u001b[0m         \u001b[1;32mreturn\u001b[0m \u001b[0m_colorize\u001b[0m\u001b[1;33m(\u001b[0m\u001b[0magg\u001b[0m\u001b[1;33m,\u001b[0m \u001b[0mcolor_key\u001b[0m\u001b[1;33m,\u001b[0m \u001b[0mhow\u001b[0m\u001b[1;33m,\u001b[0m \u001b[0mmin_alpha\u001b[0m\u001b[1;33m,\u001b[0m \u001b[0mname\u001b[0m\u001b[1;33m)\u001b[0m\u001b[1;33m\u001b[0m\u001b[0m\n",
      "\u001b[1;32mc:\\users\\ayesha zaka\\appdata\\local\\programs\\python\\python36-32\\lib\\site-packages\\datashader\\transfer_functions.py\u001b[0m in \u001b[0;36m_interpolate\u001b[1;34m(agg, cmap, how, alpha, span, min_alpha, name)\u001b[0m\n\u001b[0;32m    245\u001b[0m     \u001b[1;32melif\u001b[0m \u001b[0mcallable\u001b[0m\u001b[1;33m(\u001b[0m\u001b[0mcmap\u001b[0m\u001b[1;33m)\u001b[0m\u001b[1;33m:\u001b[0m\u001b[1;33m\u001b[0m\u001b[0m\n\u001b[0;32m    246\u001b[0m         \u001b[1;31m# Assume callable is matplotlib colormap\u001b[0m\u001b[1;33m\u001b[0m\u001b[1;33m\u001b[0m\u001b[0m\n\u001b[1;32m--> 247\u001b[1;33m         \u001b[0mimg\u001b[0m \u001b[1;33m=\u001b[0m \u001b[0mcmap\u001b[0m\u001b[1;33m(\u001b[0m\u001b[1;33m(\u001b[0m\u001b[0mdata\u001b[0m \u001b[1;33m-\u001b[0m \u001b[0mspan\u001b[0m\u001b[1;33m[\u001b[0m\u001b[1;36m0\u001b[0m\u001b[1;33m]\u001b[0m\u001b[1;33m)\u001b[0m\u001b[1;33m/\u001b[0m\u001b[1;33m(\u001b[0m\u001b[0mspan\u001b[0m\u001b[1;33m[\u001b[0m\u001b[1;36m1\u001b[0m\u001b[1;33m]\u001b[0m \u001b[1;33m-\u001b[0m \u001b[0mspan\u001b[0m\u001b[1;33m[\u001b[0m\u001b[1;36m0\u001b[0m\u001b[1;33m]\u001b[0m\u001b[1;33m)\u001b[0m\u001b[1;33m,\u001b[0m \u001b[0mbytes\u001b[0m\u001b[1;33m=\u001b[0m\u001b[1;32mTrue\u001b[0m\u001b[1;33m)\u001b[0m\u001b[1;33m\u001b[0m\u001b[0m\n\u001b[0m\u001b[0;32m    248\u001b[0m         \u001b[0mimg\u001b[0m\u001b[1;33m[\u001b[0m\u001b[1;33m:\u001b[0m\u001b[1;33m,\u001b[0m \u001b[1;33m:\u001b[0m\u001b[1;33m,\u001b[0m \u001b[1;36m3\u001b[0m\u001b[1;33m]\u001b[0m \u001b[1;33m=\u001b[0m \u001b[0mnp\u001b[0m\u001b[1;33m.\u001b[0m\u001b[0mwhere\u001b[0m\u001b[1;33m(\u001b[0m\u001b[0mnp\u001b[0m\u001b[1;33m.\u001b[0m\u001b[0misnan\u001b[0m\u001b[1;33m(\u001b[0m\u001b[0mdata\u001b[0m\u001b[1;33m)\u001b[0m\u001b[1;33m,\u001b[0m \u001b[1;36m0\u001b[0m\u001b[1;33m,\u001b[0m \u001b[0malpha\u001b[0m\u001b[1;33m)\u001b[0m\u001b[1;33m.\u001b[0m\u001b[0mastype\u001b[0m\u001b[1;33m(\u001b[0m\u001b[0mnp\u001b[0m\u001b[1;33m.\u001b[0m\u001b[0muint8\u001b[0m\u001b[1;33m)\u001b[0m\u001b[1;33m\u001b[0m\u001b[0m\n\u001b[0;32m    249\u001b[0m         \u001b[0mimg\u001b[0m \u001b[1;33m=\u001b[0m \u001b[0mimg\u001b[0m\u001b[1;33m.\u001b[0m\u001b[0mview\u001b[0m\u001b[1;33m(\u001b[0m\u001b[0mnp\u001b[0m\u001b[1;33m.\u001b[0m\u001b[0muint32\u001b[0m\u001b[1;33m)\u001b[0m\u001b[1;33m.\u001b[0m\u001b[0mreshape\u001b[0m\u001b[1;33m(\u001b[0m\u001b[0mdata\u001b[0m\u001b[1;33m.\u001b[0m\u001b[0mshape\u001b[0m\u001b[1;33m)\u001b[0m\u001b[1;33m\u001b[0m\u001b[0m\n",
      "\u001b[1;32mc:\\users\\ayesha zaka\\appdata\\local\\programs\\python\\python36-32\\lib\\site-packages\\matplotlib\\colors.py\u001b[0m in \u001b[0;36m__call__\u001b[1;34m(self, X, alpha, bytes)\u001b[0m\n\u001b[0;32m    456\u001b[0m         \u001b[1;31m# See class docstring for arg/kwarg documentation.\u001b[0m\u001b[1;33m\u001b[0m\u001b[1;33m\u001b[0m\u001b[0m\n\u001b[0;32m    457\u001b[0m         \u001b[1;32mif\u001b[0m \u001b[1;32mnot\u001b[0m \u001b[0mself\u001b[0m\u001b[1;33m.\u001b[0m\u001b[0m_isinit\u001b[0m\u001b[1;33m:\u001b[0m\u001b[1;33m\u001b[0m\u001b[0m\n\u001b[1;32m--> 458\u001b[1;33m             \u001b[0mself\u001b[0m\u001b[1;33m.\u001b[0m\u001b[0m_init\u001b[0m\u001b[1;33m(\u001b[0m\u001b[1;33m)\u001b[0m\u001b[1;33m\u001b[0m\u001b[0m\n\u001b[0m\u001b[0;32m    459\u001b[0m         \u001b[0mmask_bad\u001b[0m \u001b[1;33m=\u001b[0m \u001b[1;32mNone\u001b[0m\u001b[1;33m\u001b[0m\u001b[0m\n\u001b[0;32m    460\u001b[0m         \u001b[1;32mif\u001b[0m \u001b[1;32mnot\u001b[0m \u001b[0mcbook\u001b[0m\u001b[1;33m.\u001b[0m\u001b[0miterable\u001b[0m\u001b[1;33m(\u001b[0m\u001b[0mX\u001b[0m\u001b[1;33m)\u001b[0m\u001b[1;33m:\u001b[0m\u001b[1;33m\u001b[0m\u001b[0m\n",
      "\u001b[1;32mc:\\users\\ayesha zaka\\appdata\\local\\programs\\python\\python36-32\\lib\\site-packages\\matplotlib\\colors.py\u001b[0m in \u001b[0;36m_init\u001b[1;34m(self)\u001b[0m\n\u001b[0;32m    570\u001b[0m     \u001b[1;32mdef\u001b[0m \u001b[0m_init\u001b[0m\u001b[1;33m(\u001b[0m\u001b[0mself\u001b[0m\u001b[1;33m)\u001b[0m\u001b[1;33m:\u001b[0m\u001b[1;33m\u001b[0m\u001b[0m\n\u001b[0;32m    571\u001b[0m         \u001b[1;34m\"\"\"Generate the lookup table, self._lut\"\"\"\u001b[0m\u001b[1;33m\u001b[0m\u001b[0m\n\u001b[1;32m--> 572\u001b[1;33m         \u001b[1;32mraise\u001b[0m \u001b[0mNotImplementedError\u001b[0m\u001b[1;33m(\u001b[0m\u001b[1;34m\"Abstract class only\"\u001b[0m\u001b[1;33m)\u001b[0m\u001b[1;33m\u001b[0m\u001b[0m\n\u001b[0m\u001b[0;32m    573\u001b[0m \u001b[1;33m\u001b[0m\u001b[0m\n\u001b[0;32m    574\u001b[0m     \u001b[1;32mdef\u001b[0m \u001b[0mis_gray\u001b[0m\u001b[1;33m(\u001b[0m\u001b[0mself\u001b[0m\u001b[1;33m)\u001b[0m\u001b[1;33m:\u001b[0m\u001b[1;33m\u001b[0m\u001b[0m\n",
      "\u001b[1;31mNotImplementedError\u001b[0m: Abstract class only"
     ]
    }
   ],
   "source": [
    "# Visualize points with datashader\n",
    "cvs = ds.Canvas(plot_width=400, plot_height=400)\n",
    "agg = cvs.points(subset, 'lng', 'lat', ds.mean('cluster'))\n",
    "tf.shade(agg, cmap=Colormap('Accent', 80))"
   ]
  },
  {
   "cell_type": "code",
   "execution_count": 15,
   "metadata": {},
   "outputs": [
    {
     "data": {
      "text/plain": [
       "<matplotlib.colors.Colormap at 0x12a16890>"
      ]
     },
     "execution_count": 15,
     "metadata": {},
     "output_type": "execute_result"
    }
   ],
   "source": [
    "colors = Colormap('Accent', 80)\n",
    "colors"
   ]
  },
  {
   "cell_type": "code",
   "execution_count": 16,
   "metadata": {},
   "outputs": [
    {
     "data": {
      "text/html": [
       "<div>\n",
       "<style>\n",
       "    .dataframe thead tr:only-child th {\n",
       "        text-align: right;\n",
       "    }\n",
       "\n",
       "    .dataframe thead th {\n",
       "        text-align: left;\n",
       "    }\n",
       "\n",
       "    .dataframe tbody tr th {\n",
       "        vertical-align: top;\n",
       "    }\n",
       "</style>\n",
       "<table border=\"1\" class=\"dataframe\">\n",
       "  <thead>\n",
       "    <tr style=\"text-align: right;\">\n",
       "      <th></th>\n",
       "      <th>id</th>\n",
       "      <th>lat</th>\n",
       "      <th>lng</th>\n",
       "      <th>text</th>\n",
       "      <th>timeStamp</th>\n",
       "      <th>user_id</th>\n",
       "      <th>cluster</th>\n",
       "    </tr>\n",
       "  </thead>\n",
       "  <tbody>\n",
       "    <tr>\n",
       "      <th>829042</th>\n",
       "      <td>384893696002375681</td>\n",
       "      <td>37.558208</td>\n",
       "      <td>-122.281324</td>\n",
       "      <td>feel bad for everyteam in the afc east but the...</td>\n",
       "      <td>2013-10-01 04:13:02</td>\n",
       "      <td>68357334</td>\n",
       "      <td>0</td>\n",
       "    </tr>\n",
       "    <tr>\n",
       "      <th>553002</th>\n",
       "      <td>382687061678891009</td>\n",
       "      <td>37.475344</td>\n",
       "      <td>-122.164632</td>\n",
       "      <td>@_iFound2Pac_ haha fasho Ima add you when I ge...</td>\n",
       "      <td>2013-09-25 02:04:40</td>\n",
       "      <td>1033185583</td>\n",
       "      <td>9</td>\n",
       "    </tr>\n",
       "    <tr>\n",
       "      <th>930418</th>\n",
       "      <td>385801221539262464</td>\n",
       "      <td>35.945637</td>\n",
       "      <td>-120.871775</td>\n",
       "      <td>@jessica95085457 okey alo mejor te pudiera dar...</td>\n",
       "      <td>2013-10-03 16:19:13</td>\n",
       "      <td>410291960</td>\n",
       "      <td>-1</td>\n",
       "    </tr>\n",
       "    <tr>\n",
       "      <th>267299</th>\n",
       "      <td>380376003781988353</td>\n",
       "      <td>37.588906</td>\n",
       "      <td>-122.482602</td>\n",
       "      <td>I seriously just like, improved my dance chore...</td>\n",
       "      <td>2013-09-18 17:01:21</td>\n",
       "      <td>550685053</td>\n",
       "      <td>1</td>\n",
       "    </tr>\n",
       "    <tr>\n",
       "      <th>624722</th>\n",
       "      <td>383284680440561666</td>\n",
       "      <td>37.478333</td>\n",
       "      <td>-122.220401</td>\n",
       "      <td>U betta calm down homie, over here walkin arou...</td>\n",
       "      <td>2013-09-26 17:39:23</td>\n",
       "      <td>382487828</td>\n",
       "      <td>2</td>\n",
       "    </tr>\n",
       "  </tbody>\n",
       "</table>\n",
       "</div>"
      ],
      "text/plain": [
       "                        id        lat         lng  \\\n",
       "829042  384893696002375681  37.558208 -122.281324   \n",
       "553002  382687061678891009  37.475344 -122.164632   \n",
       "930418  385801221539262464  35.945637 -120.871775   \n",
       "267299  380376003781988353  37.588906 -122.482602   \n",
       "624722  383284680440561666  37.478333 -122.220401   \n",
       "\n",
       "                                                     text           timeStamp  \\\n",
       "829042  feel bad for everyteam in the afc east but the... 2013-10-01 04:13:02   \n",
       "553002  @_iFound2Pac_ haha fasho Ima add you when I ge... 2013-09-25 02:04:40   \n",
       "930418  @jessica95085457 okey alo mejor te pudiera dar... 2013-10-03 16:19:13   \n",
       "267299  I seriously just like, improved my dance chore... 2013-09-18 17:01:21   \n",
       "624722  U betta calm down homie, over here walkin arou... 2013-09-26 17:39:23   \n",
       "\n",
       "           user_id  cluster  \n",
       "829042    68357334        0  \n",
       "553002  1033185583        9  \n",
       "930418   410291960       -1  \n",
       "267299   550685053        1  \n",
       "624722   382487828        2  "
      ]
     },
     "execution_count": 16,
     "metadata": {},
     "output_type": "execute_result"
    }
   ],
   "source": [
    "subset.head()"
   ]
  },
  {
   "cell_type": "code",
   "execution_count": 17,
   "metadata": {},
   "outputs": [
    {
     "data": {
      "text/plain": [
       " 0     23370\n",
       "-1     22825\n",
       " 4     13932\n",
       " 8     11441\n",
       " 3      3675\n",
       " 5      2833\n",
       " 9      1358\n",
       " 13     1216\n",
       " 22     1166\n",
       " 17     1108\n",
       " 29      945\n",
       " 7       845\n",
       " 23      833\n",
       " 12      600\n",
       " 55      565\n",
       " 10      513\n",
       " 2       498\n",
       " 24      465\n",
       " 46      454\n",
       " 18      439\n",
       " 43      432\n",
       " 48      367\n",
       " 27      361\n",
       " 14      359\n",
       " 15      341\n",
       " 34      341\n",
       " 1       323\n",
       " 42      319\n",
       " 21      313\n",
       " 39      306\n",
       "       ...  \n",
       " 11      195\n",
       " 63      174\n",
       " 41      171\n",
       " 61      170\n",
       " 53      148\n",
       " 47      148\n",
       " 70      142\n",
       " 50      141\n",
       " 37      138\n",
       " 28      138\n",
       " 6       135\n",
       " 68      132\n",
       " 64      132\n",
       " 31      132\n",
       " 65      127\n",
       " 62      126\n",
       " 32      125\n",
       " 66      124\n",
       " 35      120\n",
       " 60      117\n",
       " 67      114\n",
       " 33      112\n",
       " 57      112\n",
       " 40      106\n",
       " 26      105\n",
       " 71      105\n",
       " 58      102\n",
       " 72       95\n",
       " 69       83\n",
       " 73       52\n",
       "Name: cluster, Length: 75, dtype: int64"
      ]
     },
     "execution_count": 17,
     "metadata": {},
     "output_type": "execute_result"
    }
   ],
   "source": [
    "subset.cluster.value_counts()"
   ]
  },
  {
   "cell_type": "code",
   "execution_count": null,
   "metadata": {
    "collapsed": true
   },
   "outputs": [],
   "source": []
  }
 ],
 "metadata": {
  "kernelspec": {
   "display_name": "Python 3",
   "language": "python",
   "name": "python3"
  },
  "language_info": {
   "codemirror_mode": {
    "name": "ipython",
    "version": 3
   },
   "file_extension": ".py",
   "mimetype": "text/x-python",
   "name": "python",
   "nbconvert_exporter": "python",
   "pygments_lexer": "ipython3",
   "version": "3.7.4"
  }
 },
 "nbformat": 4,
 "nbformat_minor": 1
}
