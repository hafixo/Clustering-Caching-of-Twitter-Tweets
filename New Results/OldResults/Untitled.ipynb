{
 "cells": [
  {
   "cell_type": "code",
   "execution_count": 58,
   "metadata": {},
   "outputs": [],
   "source": [
    "import pandas as pd\n",
    "import numpy as np\n",
    "import matplotlib.pyplot as plt\n",
    "import os"
   ]
  },
  {
   "cell_type": "code",
   "execution_count": 59,
   "metadata": {},
   "outputs": [],
   "source": [
    "datadir = os.path.join(os.path.realpath(''),'cached')\n",
    "datadir = os.path.join(datadir,'Aggreegated.csv')\n",
    "df = pd.read_csv(datadir)"
   ]
  },
  {
   "cell_type": "code",
   "execution_count": 60,
   "metadata": {},
   "outputs": [
    {
     "data": {
      "text/plain": [
       "RangeIndex(start=0, stop=39572, step=1)"
      ]
     },
     "execution_count": 60,
     "metadata": {},
     "output_type": "execute_result"
    }
   ],
   "source": [
    "df.columns\n",
    "df.index"
   ]
  },
  {
   "cell_type": "code",
   "execution_count": 61,
   "metadata": {},
   "outputs": [],
   "source": [
    "df = df[df[\"success\"] == True]"
   ]
  },
  {
   "cell_type": "code",
   "execution_count": 62,
   "metadata": {},
   "outputs": [
    {
     "data": {
      "text/html": [
       "<div>\n",
       "<style scoped>\n",
       "    .dataframe tbody tr th:only-of-type {\n",
       "        vertical-align: middle;\n",
       "    }\n",
       "\n",
       "    .dataframe tbody tr th {\n",
       "        vertical-align: top;\n",
       "    }\n",
       "\n",
       "    .dataframe thead th {\n",
       "        text-align: right;\n",
       "    }\n",
       "</style>\n",
       "<table border=\"1\" class=\"dataframe\">\n",
       "  <thead>\n",
       "    <tr style=\"text-align: right;\">\n",
       "      <th></th>\n",
       "      <th>timeStamp</th>\n",
       "      <th>elapsed</th>\n",
       "      <th>label</th>\n",
       "      <th>responseCode</th>\n",
       "      <th>responseMessage</th>\n",
       "      <th>threadName</th>\n",
       "      <th>dataType</th>\n",
       "      <th>success</th>\n",
       "      <th>failureMessage</th>\n",
       "      <th>bytes</th>\n",
       "      <th>sentBytes</th>\n",
       "      <th>grpThreads</th>\n",
       "      <th>allThreads</th>\n",
       "      <th>URL</th>\n",
       "      <th>Latency</th>\n",
       "      <th>IdleTime</th>\n",
       "      <th>Connect</th>\n",
       "    </tr>\n",
       "  </thead>\n",
       "  <tbody>\n",
       "    <tr>\n",
       "      <td>0</td>\n",
       "      <td>1577624147359</td>\n",
       "      <td>8</td>\n",
       "      <td>HTTP Request</td>\n",
       "      <td>200</td>\n",
       "      <td>OK</td>\n",
       "      <td>Thread Group 1-1</td>\n",
       "      <td>text</td>\n",
       "      <td>True</td>\n",
       "      <td>NaN</td>\n",
       "      <td>217</td>\n",
       "      <td>134</td>\n",
       "      <td>1</td>\n",
       "      <td>1</td>\n",
       "      <td>http://127.0.0.1:8000/cached/?Cluster=27.0</td>\n",
       "      <td>8</td>\n",
       "      <td>0</td>\n",
       "      <td>1</td>\n",
       "    </tr>\n",
       "    <tr>\n",
       "      <td>1</td>\n",
       "      <td>1577624147372</td>\n",
       "      <td>6</td>\n",
       "      <td>HTTP Request</td>\n",
       "      <td>200</td>\n",
       "      <td>OK</td>\n",
       "      <td>Thread Group 1-1</td>\n",
       "      <td>text</td>\n",
       "      <td>True</td>\n",
       "      <td>NaN</td>\n",
       "      <td>217</td>\n",
       "      <td>134</td>\n",
       "      <td>1</td>\n",
       "      <td>1</td>\n",
       "      <td>http://127.0.0.1:8000/cached/?Cluster=27.0</td>\n",
       "      <td>6</td>\n",
       "      <td>0</td>\n",
       "      <td>1</td>\n",
       "    </tr>\n",
       "    <tr>\n",
       "      <td>2</td>\n",
       "      <td>1577624147379</td>\n",
       "      <td>4</td>\n",
       "      <td>HTTP Request</td>\n",
       "      <td>200</td>\n",
       "      <td>OK</td>\n",
       "      <td>Thread Group 1-1</td>\n",
       "      <td>text</td>\n",
       "      <td>True</td>\n",
       "      <td>NaN</td>\n",
       "      <td>217</td>\n",
       "      <td>134</td>\n",
       "      <td>1</td>\n",
       "      <td>1</td>\n",
       "      <td>http://127.0.0.1:8000/cached/?Cluster=27.0</td>\n",
       "      <td>4</td>\n",
       "      <td>0</td>\n",
       "      <td>0</td>\n",
       "    </tr>\n",
       "    <tr>\n",
       "      <td>3</td>\n",
       "      <td>1577624147858</td>\n",
       "      <td>5</td>\n",
       "      <td>HTTP Request</td>\n",
       "      <td>200</td>\n",
       "      <td>OK</td>\n",
       "      <td>Thread Group 1-2</td>\n",
       "      <td>text</td>\n",
       "      <td>True</td>\n",
       "      <td>NaN</td>\n",
       "      <td>217</td>\n",
       "      <td>134</td>\n",
       "      <td>2</td>\n",
       "      <td>2</td>\n",
       "      <td>http://127.0.0.1:8000/cached/?Cluster=27.0</td>\n",
       "      <td>5</td>\n",
       "      <td>0</td>\n",
       "      <td>0</td>\n",
       "    </tr>\n",
       "    <tr>\n",
       "      <td>4</td>\n",
       "      <td>1577624147865</td>\n",
       "      <td>5</td>\n",
       "      <td>HTTP Request</td>\n",
       "      <td>200</td>\n",
       "      <td>OK</td>\n",
       "      <td>Thread Group 1-2</td>\n",
       "      <td>text</td>\n",
       "      <td>True</td>\n",
       "      <td>NaN</td>\n",
       "      <td>217</td>\n",
       "      <td>134</td>\n",
       "      <td>2</td>\n",
       "      <td>2</td>\n",
       "      <td>http://127.0.0.1:8000/cached/?Cluster=27.0</td>\n",
       "      <td>5</td>\n",
       "      <td>0</td>\n",
       "      <td>0</td>\n",
       "    </tr>\n",
       "  </tbody>\n",
       "</table>\n",
       "</div>"
      ],
      "text/plain": [
       "       timeStamp  elapsed         label responseCode responseMessage  \\\n",
       "0  1577624147359        8  HTTP Request          200              OK   \n",
       "1  1577624147372        6  HTTP Request          200              OK   \n",
       "2  1577624147379        4  HTTP Request          200              OK   \n",
       "3  1577624147858        5  HTTP Request          200              OK   \n",
       "4  1577624147865        5  HTTP Request          200              OK   \n",
       "\n",
       "         threadName dataType  success  failureMessage  bytes  sentBytes  \\\n",
       "0  Thread Group 1-1     text     True             NaN    217        134   \n",
       "1  Thread Group 1-1     text     True             NaN    217        134   \n",
       "2  Thread Group 1-1     text     True             NaN    217        134   \n",
       "3  Thread Group 1-2     text     True             NaN    217        134   \n",
       "4  Thread Group 1-2     text     True             NaN    217        134   \n",
       "\n",
       "   grpThreads  allThreads                                         URL  \\\n",
       "0           1           1  http://127.0.0.1:8000/cached/?Cluster=27.0   \n",
       "1           1           1  http://127.0.0.1:8000/cached/?Cluster=27.0   \n",
       "2           1           1  http://127.0.0.1:8000/cached/?Cluster=27.0   \n",
       "3           2           2  http://127.0.0.1:8000/cached/?Cluster=27.0   \n",
       "4           2           2  http://127.0.0.1:8000/cached/?Cluster=27.0   \n",
       "\n",
       "   Latency  IdleTime  Connect  \n",
       "0        8         0        1  \n",
       "1        6         0        1  \n",
       "2        4         0        0  \n",
       "3        5         0        0  \n",
       "4        5         0        0  "
      ]
     },
     "execution_count": 62,
     "metadata": {},
     "output_type": "execute_result"
    }
   ],
   "source": [
    "df.head()"
   ]
  },
  {
   "cell_type": "code",
   "execution_count": 63,
   "metadata": {},
   "outputs": [
    {
     "data": {
      "text/html": [
       "<div>\n",
       "<style scoped>\n",
       "    .dataframe tbody tr th:only-of-type {\n",
       "        vertical-align: middle;\n",
       "    }\n",
       "\n",
       "    .dataframe tbody tr th {\n",
       "        vertical-align: top;\n",
       "    }\n",
       "\n",
       "    .dataframe thead th {\n",
       "        text-align: right;\n",
       "    }\n",
       "</style>\n",
       "<table border=\"1\" class=\"dataframe\">\n",
       "  <thead>\n",
       "    <tr style=\"text-align: right;\">\n",
       "      <th></th>\n",
       "      <th>timeStamp</th>\n",
       "      <th>elapsed</th>\n",
       "      <th>failureMessage</th>\n",
       "      <th>bytes</th>\n",
       "      <th>sentBytes</th>\n",
       "      <th>grpThreads</th>\n",
       "      <th>allThreads</th>\n",
       "      <th>Latency</th>\n",
       "      <th>IdleTime</th>\n",
       "      <th>Connect</th>\n",
       "    </tr>\n",
       "  </thead>\n",
       "  <tbody>\n",
       "    <tr>\n",
       "      <td>count</td>\n",
       "      <td>3.927200e+04</td>\n",
       "      <td>39272.000000</td>\n",
       "      <td>0.0</td>\n",
       "      <td>39272.00000</td>\n",
       "      <td>39272.0</td>\n",
       "      <td>39272.000000</td>\n",
       "      <td>39272.000000</td>\n",
       "      <td>39272.000000</td>\n",
       "      <td>39272.0</td>\n",
       "      <td>39272.000000</td>\n",
       "    </tr>\n",
       "    <tr>\n",
       "      <td>mean</td>\n",
       "      <td>1.577624e+12</td>\n",
       "      <td>748.339147</td>\n",
       "      <td>NaN</td>\n",
       "      <td>1323.34396</td>\n",
       "      <td>134.0</td>\n",
       "      <td>91.326288</td>\n",
       "      <td>91.326288</td>\n",
       "      <td>748.280760</td>\n",
       "      <td>0.0</td>\n",
       "      <td>0.467840</td>\n",
       "    </tr>\n",
       "    <tr>\n",
       "      <td>std</td>\n",
       "      <td>2.274735e+05</td>\n",
       "      <td>1288.116154</td>\n",
       "      <td>NaN</td>\n",
       "      <td>1608.54713</td>\n",
       "      <td>0.0</td>\n",
       "      <td>19.083119</td>\n",
       "      <td>19.083119</td>\n",
       "      <td>1288.116449</td>\n",
       "      <td>0.0</td>\n",
       "      <td>0.512117</td>\n",
       "    </tr>\n",
       "    <tr>\n",
       "      <td>min</td>\n",
       "      <td>1.577624e+12</td>\n",
       "      <td>4.000000</td>\n",
       "      <td>NaN</td>\n",
       "      <td>217.00000</td>\n",
       "      <td>134.0</td>\n",
       "      <td>1.000000</td>\n",
       "      <td>1.000000</td>\n",
       "      <td>4.000000</td>\n",
       "      <td>0.0</td>\n",
       "      <td>0.000000</td>\n",
       "    </tr>\n",
       "    <tr>\n",
       "      <td>25%</td>\n",
       "      <td>1.577624e+12</td>\n",
       "      <td>15.000000</td>\n",
       "      <td>NaN</td>\n",
       "      <td>217.00000</td>\n",
       "      <td>134.0</td>\n",
       "      <td>99.000000</td>\n",
       "      <td>99.000000</td>\n",
       "      <td>14.000000</td>\n",
       "      <td>0.0</td>\n",
       "      <td>0.000000</td>\n",
       "    </tr>\n",
       "    <tr>\n",
       "      <td>50%</td>\n",
       "      <td>1.577625e+12</td>\n",
       "      <td>18.000000</td>\n",
       "      <td>NaN</td>\n",
       "      <td>217.00000</td>\n",
       "      <td>134.0</td>\n",
       "      <td>100.000000</td>\n",
       "      <td>100.000000</td>\n",
       "      <td>18.000000</td>\n",
       "      <td>0.0</td>\n",
       "      <td>0.000000</td>\n",
       "    </tr>\n",
       "    <tr>\n",
       "      <td>75%</td>\n",
       "      <td>1.577625e+12</td>\n",
       "      <td>29.000000</td>\n",
       "      <td>NaN</td>\n",
       "      <td>3662.00000</td>\n",
       "      <td>134.0</td>\n",
       "      <td>100.000000</td>\n",
       "      <td>100.000000</td>\n",
       "      <td>29.000000</td>\n",
       "      <td>0.0</td>\n",
       "      <td>1.000000</td>\n",
       "    </tr>\n",
       "    <tr>\n",
       "      <td>max</td>\n",
       "      <td>1.577625e+12</td>\n",
       "      <td>3079.000000</td>\n",
       "      <td>NaN</td>\n",
       "      <td>3662.00000</td>\n",
       "      <td>134.0</td>\n",
       "      <td>100.000000</td>\n",
       "      <td>100.000000</td>\n",
       "      <td>3079.000000</td>\n",
       "      <td>0.0</td>\n",
       "      <td>14.000000</td>\n",
       "    </tr>\n",
       "  </tbody>\n",
       "</table>\n",
       "</div>"
      ],
      "text/plain": [
       "          timeStamp       elapsed  failureMessage        bytes  sentBytes  \\\n",
       "count  3.927200e+04  39272.000000             0.0  39272.00000    39272.0   \n",
       "mean   1.577624e+12    748.339147             NaN   1323.34396      134.0   \n",
       "std    2.274735e+05   1288.116154             NaN   1608.54713        0.0   \n",
       "min    1.577624e+12      4.000000             NaN    217.00000      134.0   \n",
       "25%    1.577624e+12     15.000000             NaN    217.00000      134.0   \n",
       "50%    1.577625e+12     18.000000             NaN    217.00000      134.0   \n",
       "75%    1.577625e+12     29.000000             NaN   3662.00000      134.0   \n",
       "max    1.577625e+12   3079.000000             NaN   3662.00000      134.0   \n",
       "\n",
       "         grpThreads    allThreads       Latency  IdleTime       Connect  \n",
       "count  39272.000000  39272.000000  39272.000000   39272.0  39272.000000  \n",
       "mean      91.326288     91.326288    748.280760       0.0      0.467840  \n",
       "std       19.083119     19.083119   1288.116449       0.0      0.512117  \n",
       "min        1.000000      1.000000      4.000000       0.0      0.000000  \n",
       "25%       99.000000     99.000000     14.000000       0.0      0.000000  \n",
       "50%      100.000000    100.000000     18.000000       0.0      0.000000  \n",
       "75%      100.000000    100.000000     29.000000       0.0      1.000000  \n",
       "max      100.000000    100.000000   3079.000000       0.0     14.000000  "
      ]
     },
     "execution_count": 63,
     "metadata": {},
     "output_type": "execute_result"
    }
   ],
   "source": [
    "df.describe()"
   ]
  },
  {
   "cell_type": "code",
   "execution_count": 65,
   "metadata": {},
   "outputs": [
    {
     "data": {
      "image/png": "[encoded data removed]",
      "text/plain": [
       "<Figure size 432x288 with 1 Axes>"
      ]
     },
     "metadata": {
      "needs_background": "light"
     },
     "output_type": "display_data"
    },
    {
     "data": {
      "text/plain": [
       "[<matplotlib.lines.Line2D at 0x2e02c507548>]"
      ]
     },
     "execution_count": 65,
     "metadata": {},
     "output_type": "execute_result"
    },
    {
     "data": {
      "image/png": "[encoded data removed]",
      "text/plain": [
       "<Figure size 432x288 with 1 Axes>"
      ]
     },
     "metadata": {
      "needs_background": "light"
     },
     "output_type": "display_data"
    }
   ],
   "source": [
    "#Latency\n",
    "#Latency is a difference between time when request was sent and time when response has started to be received.\n",
    "plt.xlabel('Request Number')\n",
    "plt.ylabel('Latency')\n",
    "plt.plot(range(0,39272),'Latency', data=df, marker='o', markerfacecolor='blue', markersize=4, linewidth=4)\n",
    "plt.show()\n",
    "df.sort_values(by='Latency',inplace=True, ascending=False)\n",
    "plt.plot('Latency','Latency', data=df, marker='o', markerfacecolor='grey', markersize=1, color='grey', linewidth=3,linestyle='dashed')"
   ]
  },
  {
   "cell_type": "code",
   "execution_count": 83,
   "metadata": {},
   "outputs": [
    {
     "data": {
      "text/plain": [
       "[<matplotlib.lines.Line2D at 0x2e02e9f2fc8>]"
      ]
     },
     "execution_count": 83,
     "metadata": {},
     "output_type": "execute_result"
    },
    {
     "data": {
      "image/png": "[encoded data removed]",
      "text/plain": [
       "<Figure size 432x288 with 1 Axes>"
      ]
     },
     "metadata": {
      "needs_background": "light"
     },
     "output_type": "display_data"
    }
   ],
   "source": [
    "#ConnectTime\n",
    "plt.xlabel('Request Number')\n",
    "plt.ylabel('Latency')\n",
    "#df.sort_values(by='Connect',inplace=True)\n",
    "plt.plot(range(0,39272),'Connect', data=df, marker='o', markerfacecolor='black', markersize=4, color='grey', linewidth=4)"
   ]
  },
  {
   "cell_type": "code",
   "execution_count": 68,
   "metadata": {},
   "outputs": [
    {
     "data": {
      "text/plain": [
       "[<matplotlib.lines.Line2D at 0x2e02c5dc388>]"
      ]
     },
     "execution_count": 68,
     "metadata": {},
     "output_type": "execute_result"
    },
    {
     "data": {
      "image/png": "[encoded data removed]",
      "text/plain": [
       "<Figure size 432x288 with 1 Axes>"
      ]
     },
     "metadata": {
      "needs_background": "light"
     },
     "output_type": "display_data"
    }
   ],
   "source": [
    "#Elapsed\n",
    "#Elapsed = RequestTime+ResponseTime\n",
    "plt.xlabel('Request Number')\n",
    "plt.ylabel('Elapsed')\n",
    "plt.plot( range(0,39272),'elapsed', data=df, marker='o', markerfacecolor='white', markersize=4, color='black', linewidth=4)"
   ]
  },
  {
   "cell_type": "code",
   "execution_count": 71,
   "metadata": {},
   "outputs": [
    {
     "data": {
      "text/plain": [
       "[<matplotlib.lines.Line2D at 0x2e02635f148>]"
      ]
     },
     "execution_count": 71,
     "metadata": {},
     "output_type": "execute_result"
    },
    {
     "data": {
      "image/png": "[encoded data removed]",
      "text/plain": [
       "<Figure size 432x288 with 1 Axes>"
      ]
     },
     "metadata": {
      "needs_background": "light"
     },
     "output_type": "display_data"
    }
   ],
   "source": [
    "#Connection Time and Latency\n",
    "plt.xlabel('Request Number')\n",
    "plt.plot(range(0,39272),'Latency', data=df, marker='o', markerfacecolor='blue', markersize=4, color='skyblue', linewidth=4)\n",
    "plt.plot( 'Connect', '', data=df,  marker='', color='olive', linewidth=2)\n",
    "#plt.plot( 'elapsed', '', data=df,  marker='', color='olive', linewidth=2)"
   ]
  },
  {
   "cell_type": "code",
   "execution_count": 77,
   "metadata": {},
   "outputs": [
    {
     "data": {
      "text/plain": [
       "[<matplotlib.lines.Line2D at 0x2e02dca3848>]"
      ]
     },
     "execution_count": 77,
     "metadata": {},
     "output_type": "execute_result"
    },
    {
     "data": {
      "image/png": "[encoded data removed]",
      "text/plain": [
       "<Figure size 432x288 with 1 Axes>"
      ]
     },
     "metadata": {
      "needs_background": "light"
     },
     "output_type": "display_data"
    }
   ],
   "source": [
    "#Connection Time and Latency\n",
    "plt.xlabel('Request Number')\n",
    "plt.plot(range(0,39272),'Connect', data=df, marker='o', markerfacecolor='blue', markersize=4, color='skyblue', linewidth=4)\n",
    "#plt.plot( 'elapsed', '', data=df,  marker='', color='olive', linewidth=2)\n",
    "#plt.plot( 'elapsed', '', data=df,  marker='', color='olive', linewidth=2)"
   ]
  },
  {
   "cell_type": "code",
   "execution_count": 78,
   "metadata": {},
   "outputs": [
    {
     "name": "stdout",
     "output_type": "stream",
     "text": [
      "<class 'numpy.int64'>\n",
      "<class 'numpy.int64'>\n"
     ]
    }
   ],
   "source": [
    "print(type(df['Latency'][0]))\n",
    "print(type(df['Connect'][0]))\n",
    "df['LatencyConnect'] = df['elapsed'] - df['Connect']"
   ]
  },
  {
   "cell_type": "code",
   "execution_count": 82,
   "metadata": {},
   "outputs": [
    {
     "data": {
      "text/plain": [
       "[<matplotlib.lines.Line2D at 0x2e02e9e4888>]"
      ]
     },
     "execution_count": 82,
     "metadata": {},
     "output_type": "execute_result"
    },
    {
     "data": {
      "image/png": "[encoded data removed]",
      "text/plain": [
       "<Figure size 432x288 with 1 Axes>"
      ]
     },
     "metadata": {
      "needs_background": "light"
     },
     "output_type": "display_data"
    }
   ],
   "source": [
    "plt.plot(range(0,39272),'LatencyConnect', data=df)"
   ]
  },
  {
   "cell_type": "code",
   "execution_count": null,
   "metadata": {},
   "outputs": [],
   "source": []
  }
 ],
 "metadata": {
  "kernelspec": {
   "display_name": "Python 3",
   "language": "python",
   "name": "python3"
  },
  "language_info": {
   "codemirror_mode": {
    "name": "ipython",
    "version": 3
   },
   "file_extension": ".py",
   "mimetype": "text/x-python",
   "name": "python",
   "nbconvert_exporter": "python",
   "pygments_lexer": "ipython3",
   "version": "3.7.4"
  }
 },
 "nbformat": 4,
 "nbformat_minor": 2
}
